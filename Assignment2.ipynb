{
 "cells": [
  {
   "cell_type": "code",
   "execution_count": 1,
   "metadata": {},
   "outputs": [
    {
     "name": "stdout",
     "output_type": "stream",
     "text": [
      "Type any string or number: boomika\n",
      "boomika\n",
      "akimoob\n",
      "False, its not a palindrome\n"
     ]
    }
   ],
   "source": [
    "text = input(\"Type any string or number: \")\n",
    "lowertext = text.lower()\n",
    "reverseText = \"\".join(reversed(lowertext))\n",
    "print(lowertext)\n",
    "print(reverseText)\n",
    "if reverseText == lowertext:\n",
    "     print(\"True, its a palindrome.\")\n",
    "else:\n",
    "    print(\"False, its not a palindrome\")"
   ]
  },
  {
   "cell_type": "code",
   "execution_count": 4,
   "metadata": {},
   "outputs": [
    {
     "name": "stdout",
     "output_type": "stream",
     "text": [
      "ingrese un numero entero  positivo: 4\n",
      "Secesion de fibonacci: \n",
      "0\n",
      "1\n",
      "1\n",
      "2\n"
     ]
    }
   ],
   "source": [
    "def  fibonacci(n):\n",
    "\n",
    "\tif n == 1  or n == 0:\n",
    "\n",
    "\t\treturn n;\n",
    "\n",
    "\telse:\n",
    "\n",
    "\t\treturn fibonacci(n-2) + fibonacci(n - 1)\n",
    "\n",
    "\n",
    "numero = int(input(\"ingrese un numero entero  positivo: \"))\n",
    "\n",
    "if numero < 0:\n",
    "\tprint(\"Numero no valido\")\n",
    "\n",
    "i = 0\n",
    "\n",
    "print(\"Secesion de fibonacci: \")\n",
    "\n",
    "for i in range(0, numero):\n",
    "\tprint(fibonacci(i))"
   ]
  },
  {
   "cell_type": "code",
   "execution_count": 5,
   "metadata": {},
   "outputs": [
    {
     "name": "stdout",
     "output_type": "stream",
     "text": [
      "empty\n"
     ]
    }
   ],
   "source": [
    "def n(list):\n",
    "    if list==0:\n",
    "        return 1\n",
    "    else:\n",
    "        return 0\n",
    "    \n",
    "list=[]\n",
    "if n(list):\n",
    "    print(\"not empty\")\n",
    "else:\n",
    "    print(\"empty\")"
   ]
  },
  {
   "cell_type": "code",
   "execution_count": 6,
   "metadata": {},
   "outputs": [
    {
     "name": "stdout",
     "output_type": "stream",
     "text": [
      "please Enter First Number of an A.P Series::4\n",
      "please Enter the Total Numbers in this A.p Series::3\n",
      "please Enter the Common Difference:9\n",
      "\n",
      "The Sum of Arithmetic Progression Series= 39.0\n"
     ]
    }
   ],
   "source": [
    "def sumofAP(a,n,d):\n",
    "    total=(n*(2*a+(n-1)*d))/2\n",
    "    return total\n",
    "a=int(input(\"please Enter First Number of an A.P Series::\"))\n",
    "n=int(input(\"please Enter the Total Numbers in this A.p Series::\"))\n",
    "d=int(input(\"please Enter the Common Difference:\"))\n",
    "total = sumofAP(a,n,d)\n",
    "print(\"\\nThe Sum of Arithmetic Progression Series=\",total)\n",
    "    \n",
    "    "
   ]
  },
  {
   "cell_type": "code",
   "execution_count": 10,
   "metadata": {},
   "outputs": [
    {
     "name": "stdout",
     "output_type": "stream",
     "text": [
      "[1, 2, 3, 4, 5]\n"
     ]
    }
   ],
   "source": [
    "arr=[1,2,3,4,5]\n",
    "print(arr)\n"
   ]
  },
  {
   "cell_type": "code",
   "execution_count": 11,
   "metadata": {},
   "outputs": [],
   "source": [
    "rev=arr[::-1]"
   ]
  },
  {
   "cell_type": "code",
   "execution_count": 12,
   "metadata": {},
   "outputs": [
    {
     "data": {
      "text/plain": [
       "[5, 4, 3, 2, 1]"
      ]
     },
     "execution_count": 12,
     "metadata": {},
     "output_type": "execute_result"
    }
   ],
   "source": [
    "rev\n"
   ]
  },
  {
   "cell_type": "code",
   "execution_count": null,
   "metadata": {},
   "outputs": [],
   "source": [
    "class Arithmetic():\n",
    "    def add(self):\n",
    "        print(\"Sum:\",a+b)\n",
    "    def sub(self):\n",
    "        print(\"Sub:\",a-b)\n",
    "    def mul(self):\n",
    "        print(\"Mul :\",a*b)\n",
    "    def div(self):\n",
    "        if a>b:\n",
    "            print(\"A%B :\",a//b)\n",
    "        else:\n",
    "            print(\"B%A :\",b//a)\n",
    "            arithmetic=Arithmetic()\n",
    "a=int(input('enter a value:'))\n",
    "b=int(input('enter b value:'))\n",
    "arithmetic.add()\n",
    "arithmetic.sub()\n",
    "arithmetic.mul()\n",
    "arithmetic.div()\n",
    "        "
   ]
  },
  {
   "cell_type": "code",
   "execution_count": null,
   "metadata": {},
   "outputs": [],
   "source": []
  }
 ],
 "metadata": {
  "kernelspec": {
   "display_name": "Python 3",
   "language": "python",
   "name": "python3"
  },
  "language_info": {
   "codemirror_mode": {
    "name": "ipython",
    "version": 3
   },
   "file_extension": ".py",
   "mimetype": "text/x-python",
   "name": "python",
   "nbconvert_exporter": "python",
   "pygments_lexer": "ipython3",
   "version": "3.7.6"
  }
 },
 "nbformat": 4,
 "nbformat_minor": 4
}
